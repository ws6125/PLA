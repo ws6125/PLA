{
  "nbformat": 4,
  "nbformat_minor": 0,
  "metadata": {
    "colab": {
      "name": "PLA.ipynb",
      "provenance": [],
      "collapsed_sections": []
    },
    "kernelspec": {
      "name": "python3",
      "display_name": "Python 3"
    },
    "language_info": {
      "name": "python"
    }
  },
  "cells": [
    {
      "cell_type": "code",
      "metadata": {
        "colab": {
          "base_uri": "https://localhost:8080/"
        },
        "id": "Z2sdOOsOtAsK",
        "outputId": "e422194d-321f-4121-f99c-e53dd6a98687"
      },
      "source": [
        "tr_path = 'hw1_15_train.dat.txt'\n",
        "!gdown --id '1hgECrf043Yw8Tfu6aknJMVCSnHf6ivuM'"
      ],
      "execution_count": 19,
      "outputs": [
        {
          "output_type": "stream",
          "text": [
            "Downloading...\n",
            "From: https://drive.google.com/uc?id=1hgECrf043Yw8Tfu6aknJMVCSnHf6ivuM\n",
            "To: /content/hw1_15_train.dat.txt\n",
            "\r  0% 0.00/13.7k [00:00<?, ?B/s]\r100% 13.7k/13.7k [00:00<00:00, 8.34MB/s]\n"
          ],
          "name": "stdout"
        }
      ]
    },
    {
      "cell_type": "code",
      "metadata": {
        "id": "BtfNeUInujNO"
      },
      "source": [
        "import numpy as np\n",
        "import csv\n",
        "import pandas as pd"
      ],
      "execution_count": 20,
      "outputs": []
    },
    {
      "cell_type": "code",
      "metadata": {
        "colab": {
          "base_uri": "https://localhost:8080/"
        },
        "id": "EpWkki_yuktK",
        "outputId": "6335d1fa-23d2-4c67-8158-cf78934c1638"
      },
      "source": [
        "dataset = pd.read_csv(tr_path, header=None, sep='\\s+').to_numpy()\n",
        "print(dataset)"
      ],
      "execution_count": 22,
      "outputs": [
        {
          "output_type": "stream",
          "text": [
            "[[ 0.97681   0.10723   0.64385   0.29556   1.      ]\n",
            " [ 0.67194   0.2418    0.83075   0.42741   1.      ]\n",
            " [ 0.20619   0.23321   0.81004   0.98691   1.      ]\n",
            " ...\n",
            " [ 0.93895   0.93941   0.72496   0.95655   1.      ]\n",
            " [ 0.046136  0.94413   0.038311  0.26812  -1.      ]\n",
            " [ 0.072491  0.2242    0.62592   0.67238   1.      ]]\n"
          ],
          "name": "stdout"
        }
      ]
    },
    {
      "cell_type": "code",
      "metadata": {
        "id": "76YxBwYh2mLP"
      },
      "source": [
        "def pla(dataset):\n",
        "  w = np.zeros(len(dataset[0]))\n",
        "  count = 0\n",
        "  while True:\n",
        "    end_while = True\n",
        "\n",
        "    for i in range(0, len(dataset)):\n",
        "      init = [1] # append x0 = 1 to all feature\n",
        "      x = np.append(init, dataset[i][:-1])\n",
        "      y = dataset[i][-1]\n",
        "      result = np.dot(np.transpose(w), x)\n",
        "      if (-1 if (0 == result) else np.sign(result)) == np.sign(y):\n",
        "        continue\n",
        "      else:\n",
        "        end_while = False\n",
        "        w = w + (y * x)\n",
        "        count += 1\n",
        "        print('Error Index: ', i)\n",
        "        print('Count: ', count)\n",
        "      \n",
        "    if end_while:\n",
        "      break\n",
        "\n",
        "    count += 1\n",
        "     \n",
        "  print('Final w: ', w)\n",
        "  print('Total Count: ', count)"
      ],
      "execution_count": 23,
      "outputs": []
    },
    {
      "cell_type": "code",
      "metadata": {
        "colab": {
          "base_uri": "https://localhost:8080/"
        },
        "id": "JHW6_UmP26og",
        "outputId": "7ad5fe1e-0d95-46f2-d088-ed5c8c3b27e8"
      },
      "source": [
        "pla(dataset)"
      ],
      "execution_count": 24,
      "outputs": [
        {
          "output_type": "stream",
          "text": [
            "Error Index:  0\n",
            "Count:  1\n",
            "Error Index:  6\n",
            "Count:  2\n",
            "Error Index:  9\n",
            "Count:  3\n",
            "Error Index:  10\n",
            "Count:  4\n",
            "Error Index:  11\n",
            "Count:  5\n",
            "Error Index:  13\n",
            "Count:  6\n",
            "Error Index:  18\n",
            "Count:  7\n",
            "Error Index:  19\n",
            "Count:  8\n",
            "Error Index:  26\n",
            "Count:  9\n",
            "Error Index:  27\n",
            "Count:  10\n",
            "Error Index:  29\n",
            "Count:  11\n",
            "Error Index:  34\n",
            "Count:  12\n",
            "Error Index:  36\n",
            "Count:  13\n",
            "Error Index:  40\n",
            "Count:  14\n",
            "Error Index:  41\n",
            "Count:  15\n",
            "Error Index:  44\n",
            "Count:  16\n",
            "Error Index:  46\n",
            "Count:  17\n",
            "Error Index:  58\n",
            "Count:  18\n",
            "Error Index:  64\n",
            "Count:  19\n",
            "Error Index:  65\n",
            "Count:  20\n",
            "Error Index:  66\n",
            "Count:  21\n",
            "Error Index:  68\n",
            "Count:  22\n",
            "Error Index:  69\n",
            "Count:  23\n",
            "Error Index:  72\n",
            "Count:  24\n",
            "Error Index:  91\n",
            "Count:  25\n",
            "Error Index:  94\n",
            "Count:  26\n",
            "Error Index:  122\n",
            "Count:  27\n",
            "Error Index:  124\n",
            "Count:  28\n",
            "Error Index:  144\n",
            "Count:  29\n",
            "Error Index:  145\n",
            "Count:  30\n",
            "Error Index:  146\n",
            "Count:  31\n",
            "Error Index:  150\n",
            "Count:  32\n",
            "Error Index:  161\n",
            "Count:  33\n",
            "Error Index:  185\n",
            "Count:  34\n",
            "Error Index:  187\n",
            "Count:  35\n",
            "Error Index:  222\n",
            "Count:  36\n",
            "Error Index:  233\n",
            "Count:  37\n",
            "Error Index:  47\n",
            "Count:  39\n",
            "Error Index:  51\n",
            "Count:  40\n",
            "Error Index:  52\n",
            "Count:  41\n",
            "Error Index:  58\n",
            "Count:  42\n",
            "Error Index:  110\n",
            "Count:  43\n",
            "Error Index:  111\n",
            "Count:  44\n",
            "Error Index:  124\n",
            "Count:  45\n",
            "Error Index:  135\n",
            "Count:  46\n",
            "Final w:  [-3.         3.0841436 -1.583081   2.391305   4.5287635]\n",
            "Total Count:  47\n"
          ],
          "name": "stdout"
        }
      ]
    }
  ]
}